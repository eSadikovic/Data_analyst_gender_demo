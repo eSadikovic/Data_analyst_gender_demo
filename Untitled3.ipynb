{
 "cells": [
  {
   "cell_type": "markdown",
   "metadata": {},
   "source": [
    "## Downloading files and making them suitable to work with pandas:"
   ]
  },
  {
   "cell_type": "code",
   "execution_count": 133,
   "metadata": {
    "collapsed": true
   },
   "outputs": [],
   "source": [
    "# -*- coding: utf-8 -*-\n",
    "\"\"\"\n",
    "Created on Fri Oct 06 13:06:45 2017\n",
    "\n",
    "@author: emir.sadikovic\n",
    "\"\"\"\n",
    "\n",
    "\n",
    "import requests\n",
    "import xml.etree.ElementTree as ET\n",
    "import csv\n",
    "import pandas  as pd\n",
    "\n",
    "URLxml = \"https://data.cityofnewyork.us/api/views/kku6-nxdu/rows.xml?accessType=DOWNLOAD\"\n",
    "URLcsv = \"https://data.ny.gov/api/views/juva-r6g2/rows.csv?accessType=DOWNLOAD\"\n",
    "URLjson = \"https://data.ny.gov/api/views/ieqx-cqyk/rows.json?accessType=DOWNLOAD\"\n",
    "\n",
    "\n",
    "\n",
    "\n",
    "#Downloading xml\n",
    "\n",
    "response = requests.get(URLxml)\n",
    "with open('feed.xml', 'wb') as file:\n",
    "    file.write(response.content)\n",
    "    \n",
    "\n",
    "#Downloading csv\n",
    "response = requests.get(URLcsv)\n",
    "with open('zipkod.csv', 'wb') as file:\n",
    "    file.write(response.content)    \n",
    "    \n",
    "\n",
    "\n",
    "#Making csv from xml\n",
    "tree = ET.parse(\"feed.xml\")\n",
    "root = tree.getroot()\n",
    "    \n",
    "\n",
    "# create the csv writer object for gender analysis\n",
    "\n",
    "Resident_data = open('Kodovi_gender.csv', 'w')\n",
    "csvwriter = csv.writer(Resident_data)\n",
    "zaglavlje = []\n",
    "\n",
    "count = 0\n",
    "for member in root[0].findall('row'):\n",
    "    vrsta = []\n",
    "    if count == 0:\n",
    "        jurisdiction_name = member.find('jurisdiction_name').tag\n",
    "        zaglavlje.append(jurisdiction_name)\n",
    "        count_female = member.find('count_female').tag\n",
    "        zaglavlje.append(count_female)\n",
    "        count_male = member.find('count_male').tag\n",
    "        zaglavlje.append(count_male)\n",
    "        percent_female = member.find('percent_female').tag\n",
    "        zaglavlje.append(percent_female) \n",
    "        percent_male = member.find('percent_male').tag\n",
    "        zaglavlje.append(percent_male)\n",
    "        count_gender_unknown = member.find('count_gender_unknown').tag\n",
    "        zaglavlje.append(count_gender_unknown)\n",
    "        percent_gender_unknown = member.find('percent_gender_unknown').tag\n",
    "        zaglavlje.append(percent_gender_unknown)\n",
    "        count_gender_total = member.find('count_gender_total').tag\n",
    "        zaglavlje.append(count_gender_total)\n",
    "        percent_gender_total = member.find('percent_gender_total').tag\n",
    "        zaglavlje.append(percent_gender_total)\n",
    "        csvwriter.writerow(zaglavlje)\n",
    "        count = count + 1\n",
    "\n",
    "    jurisdiction_name = member.find('jurisdiction_name').text\n",
    "    vrsta.append(jurisdiction_name)\n",
    "    count_female = member.find('count_female').text\n",
    "    vrsta.append(count_female)\n",
    "    count_male = member.find('count_male').text\n",
    "    vrsta.append(count_male)\n",
    "    percent_female = member.find('percent_female').text\n",
    "    vrsta.append(percent_female) \n",
    "    percent_male = member.find('percent_male').text\n",
    "    vrsta.append(percent_male)\n",
    "    count_gender_unknown = member.find('count_gender_unknown').text\n",
    "    vrsta.append(count_gender_unknown)\n",
    "    percent_gender_unknown = member.find('percent_gender_unknown').text\n",
    "    vrsta.append(percent_gender_unknown)\n",
    "    count_gender_total = member.find('count_gender_total').text\n",
    "    vrsta.append(count_gender_total)\n",
    "    percent_gender_total = member.find('percent_gender_total').text\n",
    "    vrsta.append(percent_gender_total)\n",
    "    \n",
    "    csvwriter.writerow(vrsta)\n",
    "Resident_data.close()\n",
    "\n",
    "\n",
    "\n",
    "# create the csv writer object for demographic analysis\n",
    "\n",
    "Resident_data = open('Kodovi_demo.csv', 'w')\n",
    "csvwriter = csv.writer(Resident_data)\n",
    "zaglavlje = []\n",
    "\n",
    "count = 0\n",
    "for member in root[0].findall('row'):\n",
    "    vrsta = []\n",
    "    if count == 0:\n",
    "        jurisdiction_name = member.find('jurisdiction_name').tag\n",
    "        zaglavlje.append(jurisdiction_name)\n",
    "        count_pacific_islander = member.find('count_pacific_islander').tag\n",
    "        zaglavlje.append(count_pacific_islander)\n",
    "      #  percent_pacific_islander = member.find('percent_pacific_islander').tag\n",
    "       # zaglavlje.append(percent_pacific_islander)\n",
    "        count_hispanic_latino = member.find('count_hispanic_latino').tag\n",
    "        zaglavlje.append(count_hispanic_latino)\n",
    "       # percent_hispanic_latino = member.find('percent_hispanic_latino').tag\n",
    "        #zaglavlje.append(percent_hispanic_latino) \n",
    "        count_american_indian = member.find('count_american_indian').tag\n",
    "        zaglavlje.append(count_american_indian)\n",
    "        #percent_american_indian = member.find('percent_american_indian').tag\n",
    "        #zaglavlje.append(percent_american_indian)\n",
    "        count_asian_non_hispanic = member.find('count_asian_non_hispanic').tag\n",
    "        zaglavlje.append(count_asian_non_hispanic)\n",
    "        count_white_non_hispanic = member.find('count_white_non_hispanic').tag\n",
    "        zaglavlje.append(count_white_non_hispanic)\n",
    "        count_black_non_hispanic = member.find('count_black_non_hispanic').tag\n",
    "        zaglavlje.append(count_black_non_hispanic)\n",
    "        count_other_ethnicity = member.find('count_other_ethnicity').tag\n",
    "        zaglavlje.append(count_other_ethnicity)\n",
    "        count_ethnicity_unknown = member.find('count_ethnicity_unknown').tag\n",
    "        zaglavlje.append(count_ethnicity_unknown)\n",
    "        count_participants = member.find('count_participants').tag\n",
    "        zaglavlje.append(count_participants)\n",
    "    \n",
    "        \n",
    "        csvwriter.writerow(zaglavlje)\n",
    "        count = count + 1\n",
    "        \n",
    "    jurisdiction_name = member.find('jurisdiction_name').text\n",
    "    vrsta.append(jurisdiction_name)\n",
    "    count_pacific_islander = member.find('count_pacific_islander').text\n",
    "    vrsta.append(count_pacific_islander)\n",
    "#    percent_pacific_islander = member.find('percent_pacific_islander').text\n",
    "#    vrsta.append(percent_pacific_islander)\n",
    "    count_hispanic_latino = member.find('count_hispanic_latino').text\n",
    "    vrsta.append(count_hispanic_latino)\n",
    "#    percent_hispanic_latino = member.find('percent_hispanic_latino').text\n",
    "#    vrsta.append(percent_hispanic_latino) \n",
    "    count_american_indian = member.find('count_american_indian').text\n",
    "    vrsta.append(count_american_indian)\n",
    "#    percent_american_indian = member.find('percent_american_indian').text\n",
    "#    vrsta.append(percent_american_indian)\n",
    "    count_asian_non_hispanic = member.find('count_asian_non_hispanic').text\n",
    "    vrsta.append(count_asian_non_hispanic)\n",
    "    count_white_non_hispanic = member.find('count_white_non_hispanic').text\n",
    "    vrsta.append(count_white_non_hispanic)\n",
    "    count_black_non_hispanic = member.find('count_black_non_hispanic').text\n",
    "    vrsta.append(count_black_non_hispanic)\n",
    "    count_other_ethnicity = member.find('count_other_ethnicity').text\n",
    "    vrsta.append(count_other_ethnicity)\n",
    "    count_ethnicity_unknown = member.find('count_ethnicity_unknown').text\n",
    "    vrsta.append(count_ethnicity_unknown)\n",
    "    count_participants = member.find('count_participants').text\n",
    "    vrsta.append(count_participants)\n",
    "\n",
    "\n",
    "    csvwriter.writerow(vrsta)\n",
    "Resident_data.close()\n",
    "\n",
    "\n",
    "        \n",
    "# merging two csv files\n",
    "kodovi_gender_pd = pd.read_csv(\"Kodovi_gender.csv\")\n",
    "zip_kodovi = pd.read_csv(\"zipkod.csv\")\n",
    "merged_gender = zip_kodovi.merge(kodovi_gender_pd, left_on='ZIP Code', right_on='jurisdiction_name' ,  how=\"inner\").fillna(\"\")\n",
    "merged_gender.to_csv(\"merged_gender.csv\", index=False)        \n",
    "\n",
    "merged_gender_MF= merged_gender.copy()\n",
    "merged_gender_MF.drop(merged_gender_MF.columns[[0,1,2,3,5,6,9,10,11,12,14]], axis=1, inplace=True)\n",
    "merged_gender_MF.to_csv(\"MF_byZipCode.csv\", index=False) \n",
    "\n",
    "#download json\n",
    "response = requests.get(URLjson)\n",
    "with open('dzejson.txt', 'wb') as file:\n",
    "    file.write(response.content)  "
   ]
  },
  {
   "cell_type": "markdown",
   "metadata": {},
   "source": [
    "# Gender\n",
    "##  <span style=\"color: red;\"> reakdown of the male and female division by zip code:</span>\n",
    "(This is privew, whole list can be found in file \"MF_byZipCode.pdf\", or in \"MF_byZipCode.csv\" if one run code above, in which case file could be opened with MSexcel-like software)"
   ]
  },
  {
   "cell_type": "code",
   "execution_count": 134,
   "metadata": {},
   "outputs": [
    {
     "data": {
      "text/html": [
       "<div>\n",
       "<style>\n",
       "    .dataframe thead tr:only-child th {\n",
       "        text-align: right;\n",
       "    }\n",
       "\n",
       "    .dataframe thead th {\n",
       "        text-align: left;\n",
       "    }\n",
       "\n",
       "    .dataframe tbody tr th {\n",
       "        vertical-align: top;\n",
       "    }\n",
       "</style>\n",
       "<table border=\"1\" class=\"dataframe\">\n",
       "  <thead>\n",
       "    <tr style=\"text-align: right;\">\n",
       "      <th></th>\n",
       "      <th>ZIP Code</th>\n",
       "      <th>count_female</th>\n",
       "      <th>count_male</th>\n",
       "      <th>count_gender_total</th>\n",
       "    </tr>\n",
       "  </thead>\n",
       "  <tbody>\n",
       "    <tr>\n",
       "      <th>0</th>\n",
       "      <td>10472</td>\n",
       "      <td>0</td>\n",
       "      <td>0</td>\n",
       "      <td>0</td>\n",
       "    </tr>\n",
       "    <tr>\n",
       "      <th>1</th>\n",
       "      <td>10463</td>\n",
       "      <td>33</td>\n",
       "      <td>26</td>\n",
       "      <td>59</td>\n",
       "    </tr>\n",
       "    <tr>\n",
       "      <th>2</th>\n",
       "      <td>10463</td>\n",
       "      <td>33</td>\n",
       "      <td>26</td>\n",
       "      <td>59</td>\n",
       "    </tr>\n",
       "    <tr>\n",
       "      <th>3</th>\n",
       "      <td>10468</td>\n",
       "      <td>46</td>\n",
       "      <td>35</td>\n",
       "      <td>81</td>\n",
       "    </tr>\n",
       "    <tr>\n",
       "      <th>4</th>\n",
       "      <td>10457</td>\n",
       "      <td>0</td>\n",
       "      <td>0</td>\n",
       "      <td>0</td>\n",
       "    </tr>\n",
       "  </tbody>\n",
       "</table>\n",
       "</div>"
      ],
      "text/plain": [
       "   ZIP Code  count_female  count_male  count_gender_total\n",
       "0     10472             0           0                   0\n",
       "1     10463            33          26                  59\n",
       "2     10463            33          26                  59\n",
       "3     10468            46          35                  81\n",
       "4     10457             0           0                   0"
      ]
     },
     "execution_count": 134,
     "metadata": {},
     "output_type": "execute_result"
    }
   ],
   "source": [
    "merged_gender_MF.head()"
   ]
  },
  {
   "cell_type": "markdown",
   "metadata": {},
   "source": [
    "\n",
    "## <span style=\"color: red;\"> Gender breakdown by counties:</span>\n"
   ]
  },
  {
   "cell_type": "code",
   "execution_count": 135,
   "metadata": {},
   "outputs": [
    {
     "data": {
      "text/html": [
       "<div>\n",
       "<style>\n",
       "    .dataframe thead tr:only-child th {\n",
       "        text-align: right;\n",
       "    }\n",
       "\n",
       "    .dataframe thead th {\n",
       "        text-align: left;\n",
       "    }\n",
       "\n",
       "    .dataframe tbody tr th {\n",
       "        vertical-align: top;\n",
       "    }\n",
       "</style>\n",
       "<table border=\"1\" class=\"dataframe\">\n",
       "  <thead>\n",
       "    <tr style=\"text-align: right;\">\n",
       "      <th></th>\n",
       "      <th>count_female</th>\n",
       "      <th>count_male</th>\n",
       "      <th>count_gender_unknown</th>\n",
       "      <th>count_gender_total</th>\n",
       "    </tr>\n",
       "    <tr>\n",
       "      <th>County Name</th>\n",
       "      <th></th>\n",
       "      <th></th>\n",
       "      <th></th>\n",
       "      <th></th>\n",
       "    </tr>\n",
       "  </thead>\n",
       "  <tbody>\n",
       "    <tr>\n",
       "      <th>Bronx</th>\n",
       "      <td>396</td>\n",
       "      <td>284</td>\n",
       "      <td>0</td>\n",
       "      <td>680</td>\n",
       "    </tr>\n",
       "    <tr>\n",
       "      <th>Delaware</th>\n",
       "      <td>52</td>\n",
       "      <td>47</td>\n",
       "      <td>0</td>\n",
       "      <td>99</td>\n",
       "    </tr>\n",
       "    <tr>\n",
       "      <th>Greene</th>\n",
       "      <td>1</td>\n",
       "      <td>20</td>\n",
       "      <td>0</td>\n",
       "      <td>21</td>\n",
       "    </tr>\n",
       "    <tr>\n",
       "      <th>Kings</th>\n",
       "      <td>844</td>\n",
       "      <td>392</td>\n",
       "      <td>0</td>\n",
       "      <td>1236</td>\n",
       "    </tr>\n",
       "    <tr>\n",
       "      <th>Nassau</th>\n",
       "      <td>6</td>\n",
       "      <td>22</td>\n",
       "      <td>0</td>\n",
       "      <td>28</td>\n",
       "    </tr>\n",
       "    <tr>\n",
       "      <th>New York</th>\n",
       "      <td>167</td>\n",
       "      <td>127</td>\n",
       "      <td>0</td>\n",
       "      <td>294</td>\n",
       "    </tr>\n",
       "    <tr>\n",
       "      <th>Queens</th>\n",
       "      <td>35</td>\n",
       "      <td>48</td>\n",
       "      <td>0</td>\n",
       "      <td>83</td>\n",
       "    </tr>\n",
       "    <tr>\n",
       "      <th>Richmond</th>\n",
       "      <td>0</td>\n",
       "      <td>1</td>\n",
       "      <td>0</td>\n",
       "      <td>1</td>\n",
       "    </tr>\n",
       "    <tr>\n",
       "      <th>Rockland</th>\n",
       "      <td>0</td>\n",
       "      <td>0</td>\n",
       "      <td>0</td>\n",
       "      <td>0</td>\n",
       "    </tr>\n",
       "    <tr>\n",
       "      <th>Suffolk</th>\n",
       "      <td>3</td>\n",
       "      <td>2</td>\n",
       "      <td>0</td>\n",
       "      <td>5</td>\n",
       "    </tr>\n",
       "    <tr>\n",
       "      <th>Sullivan</th>\n",
       "      <td>964</td>\n",
       "      <td>758</td>\n",
       "      <td>0</td>\n",
       "      <td>1722</td>\n",
       "    </tr>\n",
       "    <tr>\n",
       "      <th>Ulster</th>\n",
       "      <td>186</td>\n",
       "      <td>182</td>\n",
       "      <td>0</td>\n",
       "      <td>368</td>\n",
       "    </tr>\n",
       "    <tr>\n",
       "      <th>Westchester</th>\n",
       "      <td>0</td>\n",
       "      <td>0</td>\n",
       "      <td>0</td>\n",
       "      <td>0</td>\n",
       "    </tr>\n",
       "  </tbody>\n",
       "</table>\n",
       "</div>"
      ],
      "text/plain": [
       "             count_female  count_male  count_gender_unknown  \\\n",
       "County Name                                                   \n",
       "Bronx                 396         284                     0   \n",
       "Delaware               52          47                     0   \n",
       "Greene                  1          20                     0   \n",
       "Kings                 844         392                     0   \n",
       "Nassau                  6          22                     0   \n",
       "New York              167         127                     0   \n",
       "Queens                 35          48                     0   \n",
       "Richmond                0           1                     0   \n",
       "Rockland                0           0                     0   \n",
       "Suffolk                 3           2                     0   \n",
       "Sullivan              964         758                     0   \n",
       "Ulster                186         182                     0   \n",
       "Westchester             0           0                     0   \n",
       "\n",
       "             count_gender_total  \n",
       "County Name                      \n",
       "Bronx                       680  \n",
       "Delaware                     99  \n",
       "Greene                       21  \n",
       "Kings                      1236  \n",
       "Nassau                       28  \n",
       "New York                    294  \n",
       "Queens                       83  \n",
       "Richmond                      1  \n",
       "Rockland                      0  \n",
       "Suffolk                       5  \n",
       "Sullivan                   1722  \n",
       "Ulster                      368  \n",
       "Westchester                   0  "
      ]
     },
     "execution_count": 135,
     "metadata": {},
     "output_type": "execute_result"
    }
   ],
   "source": [
    "gender_grb_county = merged_gender.groupby( [ \"County Name\"] ).sum()\n",
    "gender_grb_county.drop(gender_grb_county.columns[[0,1,2,3,4,7, 8, 10, 12]], axis=1, inplace=True)\n",
    "gender_grb_county.to_csv(\"gender_grb_county.csv\", index=False) \n",
    "gender_grb_county.head(n=100)"
   ]
  },
  {
   "cell_type": "markdown",
   "metadata": {},
   "source": [
    "\n",
    "\n",
    "## Graphic represenatation of gender breakdown\n"
   ]
  },
  {
   "cell_type": "code",
   "execution_count": 136,
   "metadata": {},
   "outputs": [
    {
     "data": {
      "text/plain": [
       "<matplotlib.axes._subplots.AxesSubplot at 0x7fd3f50b9198>"
      ]
     },
     "execution_count": 136,
     "metadata": {},
     "output_type": "execute_result"
    },
    {
     "data": {
      "image/png": "[encoded data removed]",
      "text/plain": [
       "<matplotlib.figure.Figure at 0x7fd41521b588>"
      ]
     },
     "metadata": {},
     "output_type": "display_data"
    }
   ],
   "source": [
    "import matplotlib\n",
    "%matplotlib inline\n",
    "gender_grb_county[['count_female', 'count_male']].plot.bar()"
   ]
  },
  {
   "cell_type": "markdown",
   "metadata": {},
   "source": [
    "# Demographics"
   ]
  },
  {
   "cell_type": "code",
   "execution_count": 137,
   "metadata": {
    "collapsed": true
   },
   "outputs": [],
   "source": [
    "kodovi_demo_pd = pd.read_csv(\"Kodovi_demo.csv\")\n",
    "\n",
    "#merging\n",
    "merged_demo = zip_kodovi.merge(kodovi_demo_pd, left_on='ZIP Code', right_on='jurisdiction_name' ,  how=\"inner\").fillna(\"\")\n",
    "merged_demo.to_csv(\"merged_demo.csv\", index=False) \n",
    "\n",
    "#making two datasets, one with total count\n",
    "demo_grb_countyName1=merged_demo.groupby( [ \"County Name\"] ).sum()\n",
    "demo_grb_countyName=demo_grb_countyName1.copy()\n",
    "dgc_for_skew=demo_grb_countyName1.copy()"
   ]
  },
  {
   "cell_type": "markdown",
   "metadata": {},
   "source": [
    "## <span style=\"color: red;\"> Demographic breakdown by Zip code:</span>\n",
    " (This is privew, whole list can be found in file \"Demographics_byZipCode.pdf\", or in \"Demographics_byZipCode.csv\" if one run code above, in which case file could be opened with MSexcel-like software)"
   ]
  },
  {
   "cell_type": "code",
   "execution_count": 138,
   "metadata": {},
   "outputs": [
    {
     "data": {
      "text/html": [
       "<div>\n",
       "<style>\n",
       "    .dataframe thead tr:only-child th {\n",
       "        text-align: right;\n",
       "    }\n",
       "\n",
       "    .dataframe thead th {\n",
       "        text-align: left;\n",
       "    }\n",
       "\n",
       "    .dataframe tbody tr th {\n",
       "        vertical-align: top;\n",
       "    }\n",
       "</style>\n",
       "<table border=\"1\" class=\"dataframe\">\n",
       "  <thead>\n",
       "    <tr style=\"text-align: right;\">\n",
       "      <th></th>\n",
       "      <th>ZIP Code</th>\n",
       "      <th>jurisdiction_name</th>\n",
       "      <th>count_pacific_islander</th>\n",
       "      <th>count_hispanic_latino</th>\n",
       "      <th>count_american_indian</th>\n",
       "      <th>count_asian_non_hispanic</th>\n",
       "      <th>count_white_non_hispanic</th>\n",
       "      <th>count_black_non_hispanic</th>\n",
       "      <th>count_other_ethnicity</th>\n",
       "      <th>count_ethnicity_unknown</th>\n",
       "      <th>count_participants</th>\n",
       "    </tr>\n",
       "  </thead>\n",
       "  <tbody>\n",
       "    <tr>\n",
       "      <th>0</th>\n",
       "      <td>10472</td>\n",
       "      <td>10472</td>\n",
       "      <td>0</td>\n",
       "      <td>0</td>\n",
       "      <td>0</td>\n",
       "      <td>0</td>\n",
       "      <td>0</td>\n",
       "      <td>0</td>\n",
       "      <td>0</td>\n",
       "      <td>0</td>\n",
       "      <td>0</td>\n",
       "    </tr>\n",
       "    <tr>\n",
       "      <th>1</th>\n",
       "      <td>10463</td>\n",
       "      <td>10463</td>\n",
       "      <td>0</td>\n",
       "      <td>36</td>\n",
       "      <td>0</td>\n",
       "      <td>0</td>\n",
       "      <td>2</td>\n",
       "      <td>18</td>\n",
       "      <td>3</td>\n",
       "      <td>0</td>\n",
       "      <td>59</td>\n",
       "    </tr>\n",
       "    <tr>\n",
       "      <th>2</th>\n",
       "      <td>10463</td>\n",
       "      <td>10463</td>\n",
       "      <td>0</td>\n",
       "      <td>36</td>\n",
       "      <td>0</td>\n",
       "      <td>0</td>\n",
       "      <td>2</td>\n",
       "      <td>18</td>\n",
       "      <td>3</td>\n",
       "      <td>0</td>\n",
       "      <td>59</td>\n",
       "    </tr>\n",
       "    <tr>\n",
       "      <th>3</th>\n",
       "      <td>10468</td>\n",
       "      <td>10468</td>\n",
       "      <td>0</td>\n",
       "      <td>35</td>\n",
       "      <td>0</td>\n",
       "      <td>3</td>\n",
       "      <td>0</td>\n",
       "      <td>36</td>\n",
       "      <td>7</td>\n",
       "      <td>0</td>\n",
       "      <td>81</td>\n",
       "    </tr>\n",
       "    <tr>\n",
       "      <th>4</th>\n",
       "      <td>10457</td>\n",
       "      <td>10457</td>\n",
       "      <td>0</td>\n",
       "      <td>0</td>\n",
       "      <td>0</td>\n",
       "      <td>0</td>\n",
       "      <td>0</td>\n",
       "      <td>0</td>\n",
       "      <td>0</td>\n",
       "      <td>0</td>\n",
       "      <td>0</td>\n",
       "    </tr>\n",
       "  </tbody>\n",
       "</table>\n",
       "</div>"
      ],
      "text/plain": [
       "   ZIP Code  jurisdiction_name  count_pacific_islander  count_hispanic_latino  \\\n",
       "0     10472              10472                       0                      0   \n",
       "1     10463              10463                       0                     36   \n",
       "2     10463              10463                       0                     36   \n",
       "3     10468              10468                       0                     35   \n",
       "4     10457              10457                       0                      0   \n",
       "\n",
       "   count_american_indian  count_asian_non_hispanic  count_white_non_hispanic  \\\n",
       "0                      0                         0                         0   \n",
       "1                      0                         0                         2   \n",
       "2                      0                         0                         2   \n",
       "3                      0                         3                         0   \n",
       "4                      0                         0                         0   \n",
       "\n",
       "   count_black_non_hispanic  count_other_ethnicity  count_ethnicity_unknown  \\\n",
       "0                         0                      0                        0   \n",
       "1                        18                      3                        0   \n",
       "2                        18                      3                        0   \n",
       "3                        36                      7                        0   \n",
       "4                         0                      0                        0   \n",
       "\n",
       "   count_participants  \n",
       "0                   0  \n",
       "1                  59  \n",
       "2                  59  \n",
       "3                  81  \n",
       "4                   0  "
      ]
     },
     "execution_count": 138,
     "metadata": {},
     "output_type": "execute_result"
    }
   ],
   "source": [
    "merged_demo.drop(merged_demo.columns[[0,1,2,3,5]], axis=1, inplace=True)\n",
    "merged_demo.to_csv(\"Demographics_byZipCode.csv\", index=False) \n",
    "merged_demo.head()"
   ]
  },
  {
   "cell_type": "markdown",
   "metadata": {},
   "source": [
    "## Demographics by county"
   ]
  },
  {
   "cell_type": "code",
   "execution_count": 139,
   "metadata": {
    "collapsed": true
   },
   "outputs": [],
   "source": [
    "# getting rid of some columns to make clear view\n",
    "demo_grb_countyName.drop(demo_grb_countyName.columns[[0,1,2,3,4, 13]], axis=1, inplace=True)\n",
    "dgc_for_skew.drop(dgc_for_skew.columns[[0,1,2,3,4,5,6,7,8,9,10,11,12]], axis=1, inplace=True)"
   ]
  },
  {
   "cell_type": "markdown",
   "metadata": {},
   "source": [
    "### <span style=\"color: red;\"> Demographic breakdown by countie </span>"
   ]
  },
  {
   "cell_type": "code",
   "execution_count": 140,
   "metadata": {},
   "outputs": [
    {
     "data": {
      "text/html": [
       "<div>\n",
       "<style>\n",
       "    .dataframe thead tr:only-child th {\n",
       "        text-align: right;\n",
       "    }\n",
       "\n",
       "    .dataframe thead th {\n",
       "        text-align: left;\n",
       "    }\n",
       "\n",
       "    .dataframe tbody tr th {\n",
       "        vertical-align: top;\n",
       "    }\n",
       "</style>\n",
       "<table border=\"1\" class=\"dataframe\">\n",
       "  <thead>\n",
       "    <tr style=\"text-align: right;\">\n",
       "      <th></th>\n",
       "      <th>count_pacific_islander</th>\n",
       "      <th>count_hispanic_latino</th>\n",
       "      <th>count_american_indian</th>\n",
       "      <th>count_asian_non_hispanic</th>\n",
       "      <th>count_white_non_hispanic</th>\n",
       "      <th>count_black_non_hispanic</th>\n",
       "      <th>count_other_ethnicity</th>\n",
       "      <th>count_ethnicity_unknown</th>\n",
       "    </tr>\n",
       "    <tr>\n",
       "      <th>County Name</th>\n",
       "      <th></th>\n",
       "      <th></th>\n",
       "      <th></th>\n",
       "      <th></th>\n",
       "      <th></th>\n",
       "      <th></th>\n",
       "      <th></th>\n",
       "      <th></th>\n",
       "    </tr>\n",
       "  </thead>\n",
       "  <tbody>\n",
       "    <tr>\n",
       "      <th>Bronx</th>\n",
       "      <td>2</td>\n",
       "      <td>306</td>\n",
       "      <td>3</td>\n",
       "      <td>13</td>\n",
       "      <td>14</td>\n",
       "      <td>309</td>\n",
       "      <td>29</td>\n",
       "      <td>4</td>\n",
       "    </tr>\n",
       "    <tr>\n",
       "      <th>Delaware</th>\n",
       "      <td>0</td>\n",
       "      <td>0</td>\n",
       "      <td>0</td>\n",
       "      <td>0</td>\n",
       "      <td>91</td>\n",
       "      <td>0</td>\n",
       "      <td>8</td>\n",
       "      <td>0</td>\n",
       "    </tr>\n",
       "    <tr>\n",
       "      <th>Greene</th>\n",
       "      <td>0</td>\n",
       "      <td>0</td>\n",
       "      <td>0</td>\n",
       "      <td>0</td>\n",
       "      <td>19</td>\n",
       "      <td>0</td>\n",
       "      <td>1</td>\n",
       "      <td>1</td>\n",
       "    </tr>\n",
       "    <tr>\n",
       "      <th>Kings</th>\n",
       "      <td>0</td>\n",
       "      <td>48</td>\n",
       "      <td>0</td>\n",
       "      <td>44</td>\n",
       "      <td>943</td>\n",
       "      <td>123</td>\n",
       "      <td>70</td>\n",
       "      <td>8</td>\n",
       "    </tr>\n",
       "    <tr>\n",
       "      <th>Nassau</th>\n",
       "      <td>0</td>\n",
       "      <td>6</td>\n",
       "      <td>0</td>\n",
       "      <td>1</td>\n",
       "      <td>18</td>\n",
       "      <td>2</td>\n",
       "      <td>1</td>\n",
       "      <td>0</td>\n",
       "    </tr>\n",
       "  </tbody>\n",
       "</table>\n",
       "</div>"
      ],
      "text/plain": [
       "             count_pacific_islander  count_hispanic_latino  \\\n",
       "County Name                                                  \n",
       "Bronx                             2                    306   \n",
       "Delaware                          0                      0   \n",
       "Greene                            0                      0   \n",
       "Kings                             0                     48   \n",
       "Nassau                            0                      6   \n",
       "\n",
       "             count_american_indian  count_asian_non_hispanic  \\\n",
       "County Name                                                    \n",
       "Bronx                            3                        13   \n",
       "Delaware                         0                         0   \n",
       "Greene                           0                         0   \n",
       "Kings                            0                        44   \n",
       "Nassau                           0                         1   \n",
       "\n",
       "             count_white_non_hispanic  count_black_non_hispanic  \\\n",
       "County Name                                                       \n",
       "Bronx                              14                       309   \n",
       "Delaware                           91                         0   \n",
       "Greene                             19                         0   \n",
       "Kings                             943                       123   \n",
       "Nassau                             18                         2   \n",
       "\n",
       "             count_other_ethnicity  count_ethnicity_unknown  \n",
       "County Name                                                  \n",
       "Bronx                           29                        4  \n",
       "Delaware                         8                        0  \n",
       "Greene                           1                        1  \n",
       "Kings                           70                        8  \n",
       "Nassau                           1                        0  "
      ]
     },
     "execution_count": 140,
     "metadata": {},
     "output_type": "execute_result"
    }
   ],
   "source": [
    "merged_demo.to_csv(\"Demographics_byZipCounty.csv\", index=False) \n",
    "demo_grb_countyName.head()"
   ]
  },
  {
   "cell_type": "code",
   "execution_count": 141,
   "metadata": {},
   "outputs": [
    {
     "data": {
      "text/plain": [
       "<matplotlib.axes._subplots.AxesSubplot at 0x7fd3f4cdad68>"
      ]
     },
     "execution_count": 141,
     "metadata": {},
     "output_type": "execute_result"
    },
    {
     "data": {
      "image/png": "[encoded data removed]",
      "text/plain": [
       "<matplotlib.figure.Figure at 0x7fd3f5bacc88>"
      ]
     },
     "metadata": {},
     "output_type": "display_data"
    }
   ],
   "source": [
    "import matplotlib\n",
    "%matplotlib inline\n",
    "demo_grb_countyName.plot.bar(stacked=True)"
   ]
  },
  {
   "cell_type": "markdown",
   "metadata": {},
   "source": [
    "## Skewness:"
   ]
  },
  {
   "cell_type": "code",
   "execution_count": 142,
   "metadata": {
    "collapsed": true
   },
   "outputs": [],
   "source": [
    "skew_all=demo_grb_countyName.skew(axis=1)"
   ]
  },
  {
   "cell_type": "markdown",
   "metadata": {},
   "source": [
    "# <span style=\"color: red;\">Counties with above average skew:</span>"
   ]
  },
  {
   "cell_type": "code",
   "execution_count": 143,
   "metadata": {
    "scrolled": true
   },
   "outputs": [
    {
     "data": {
      "text/plain": [
       "County Name\n",
       "Delaware    2.786788\n",
       "Greene      2.802617\n",
       "Kings       2.736576\n",
       "Nassau      2.332563\n",
       "Queens      2.462068\n",
       "Richmond    2.828427\n",
       "Suffolk     2.828427\n",
       "Sullivan    2.825843\n",
       "Ulster      2.808819\n",
       "dtype: float64"
      ]
     },
     "execution_count": 143,
     "metadata": {},
     "output_type": "execute_result"
    }
   ],
   "source": [
    "demo_grb_countyName.skew(axis=1).where(demo_grb_countyName.skew(axis=1)>demo_grb_countyName.skew(axis=1).mean()).dropna()"
   ]
  },
  {
   "cell_type": "code",
   "execution_count": 144,
   "metadata": {
    "collapsed": true
   },
   "outputs": [],
   "source": [
    "skew_all.index=skew_all.index.str.lower()"
   ]
  },
  {
   "cell_type": "code",
   "execution_count": 145,
   "metadata": {
    "collapsed": true
   },
   "outputs": [],
   "source": [
    "#json to pandas\n",
    "import json\n",
    "import csv\n",
    "f = open(\"dzejson.txt\", \"r\", encoding=\"utf8\")\n",
    "data = f.read()\n",
    "data=json.loads(data)\n",
    "f.close()\n",
    "f = open('dzejsonn.csv', 'w')\n",
    "csvwriter = csv.writer(f)\n",
    "csvwriter.writerow(['Service_Provider_Agency', 'County'])\n",
    "for i in data['data']:\n",
    "    csvwriter.writerow([i[9], i[16]])\n",
    "f.close()"
   ]
  },
  {
   "cell_type": "code",
   "execution_count": 146,
   "metadata": {
    "collapsed": true
   },
   "outputs": [],
   "source": [
    "jason_pd=pd.read_csv(\"dzejsonn.csv\")"
   ]
  },
  {
   "cell_type": "code",
   "execution_count": 147,
   "metadata": {
    "collapsed": true
   },
   "outputs": [],
   "source": [
    "sp_agenc_by_countrie = jason_pd.groupby( [ \"County\"] ).count()"
   ]
  },
  {
   "cell_type": "code",
   "execution_count": 148,
   "metadata": {
    "collapsed": true
   },
   "outputs": [],
   "source": [
    "sp_agenc_by_countrie.index=sp_agenc_by_countrie.index.str.lower()"
   ]
  },
  {
   "cell_type": "code",
   "execution_count": 149,
   "metadata": {
    "collapsed": true
   },
   "outputs": [],
   "source": [
    "skew_all=pd.DataFrame({'County name':skew_all.index, 'skew':skew_all.values})"
   ]
  },
  {
   "cell_type": "markdown",
   "metadata": {
    "collapsed": true
   },
   "source": [
    "Since we do not have any demographic data for Westchester and Rockland we are going to exclude them from dataframe:"
   ]
  },
  {
   "cell_type": "code",
   "execution_count": 150,
   "metadata": {
    "collapsed": true
   },
   "outputs": [],
   "source": [
    "skew_all=skew_all.drop(skew_all.index[[8,12]])"
   ]
  },
  {
   "cell_type": "code",
   "execution_count": 151,
   "metadata": {
    "collapsed": true
   },
   "outputs": [],
   "source": [
    "merged_skew_devagen = skew_all.join(sp_agenc_by_countrie, on='County name',  how=\"inner\").fillna(\"\")"
   ]
  },
  {
   "cell_type": "markdown",
   "metadata": {},
   "source": [
    "### Privew skew with number of s.p agencies"
   ]
  },
  {
   "cell_type": "code",
   "execution_count": 152,
   "metadata": {},
   "outputs": [
    {
     "data": {
      "text/html": [
       "<div>\n",
       "<style>\n",
       "    .dataframe thead tr:only-child th {\n",
       "        text-align: right;\n",
       "    }\n",
       "\n",
       "    .dataframe thead th {\n",
       "        text-align: left;\n",
       "    }\n",
       "\n",
       "    .dataframe tbody tr th {\n",
       "        vertical-align: top;\n",
       "    }\n",
       "</style>\n",
       "<table border=\"1\" class=\"dataframe\">\n",
       "  <thead>\n",
       "    <tr style=\"text-align: right;\">\n",
       "      <th></th>\n",
       "      <th>County name</th>\n",
       "      <th>skew</th>\n",
       "      <th>Service_Provider_Agency</th>\n",
       "    </tr>\n",
       "  </thead>\n",
       "  <tbody>\n",
       "    <tr>\n",
       "      <th>0</th>\n",
       "      <td>bronx</td>\n",
       "      <td>1.423367</td>\n",
       "      <td>16</td>\n",
       "    </tr>\n",
       "    <tr>\n",
       "      <th>1</th>\n",
       "      <td>delaware</td>\n",
       "      <td>2.786788</td>\n",
       "      <td>5</td>\n",
       "    </tr>\n",
       "    <tr>\n",
       "      <th>3</th>\n",
       "      <td>kings</td>\n",
       "      <td>2.736576</td>\n",
       "      <td>61</td>\n",
       "    </tr>\n",
       "    <tr>\n",
       "      <th>4</th>\n",
       "      <td>nassau</td>\n",
       "      <td>2.332563</td>\n",
       "      <td>56</td>\n",
       "    </tr>\n",
       "    <tr>\n",
       "      <th>5</th>\n",
       "      <td>new york</td>\n",
       "      <td>0.824555</td>\n",
       "      <td>65</td>\n",
       "    </tr>\n",
       "    <tr>\n",
       "      <th>6</th>\n",
       "      <td>queens</td>\n",
       "      <td>2.462068</td>\n",
       "      <td>33</td>\n",
       "    </tr>\n",
       "    <tr>\n",
       "      <th>7</th>\n",
       "      <td>richmond</td>\n",
       "      <td>2.828427</td>\n",
       "      <td>17</td>\n",
       "    </tr>\n",
       "    <tr>\n",
       "      <th>9</th>\n",
       "      <td>suffolk</td>\n",
       "      <td>2.828427</td>\n",
       "      <td>34</td>\n",
       "    </tr>\n",
       "    <tr>\n",
       "      <th>10</th>\n",
       "      <td>sullivan</td>\n",
       "      <td>2.825843</td>\n",
       "      <td>5</td>\n",
       "    </tr>\n",
       "    <tr>\n",
       "      <th>11</th>\n",
       "      <td>ulster</td>\n",
       "      <td>2.808819</td>\n",
       "      <td>7</td>\n",
       "    </tr>\n",
       "  </tbody>\n",
       "</table>\n",
       "</div>"
      ],
      "text/plain": [
       "   County name      skew  Service_Provider_Agency\n",
       "0        bronx  1.423367                       16\n",
       "1     delaware  2.786788                        5\n",
       "3        kings  2.736576                       61\n",
       "4       nassau  2.332563                       56\n",
       "5     new york  0.824555                       65\n",
       "6       queens  2.462068                       33\n",
       "7     richmond  2.828427                       17\n",
       "9      suffolk  2.828427                       34\n",
       "10    sullivan  2.825843                        5\n",
       "11      ulster  2.808819                        7"
      ]
     },
     "execution_count": 152,
     "metadata": {},
     "output_type": "execute_result"
    }
   ],
   "source": [
    "merged_skew_devagen.head(n=20)"
   ]
  },
  {
   "cell_type": "code",
   "execution_count": 153,
   "metadata": {},
   "outputs": [
    {
     "data": {
      "text/html": [
       "<div>\n",
       "<style>\n",
       "    .dataframe thead tr:only-child th {\n",
       "        text-align: right;\n",
       "    }\n",
       "\n",
       "    .dataframe thead th {\n",
       "        text-align: left;\n",
       "    }\n",
       "\n",
       "    .dataframe tbody tr th {\n",
       "        vertical-align: top;\n",
       "    }\n",
       "</style>\n",
       "<table border=\"1\" class=\"dataframe\">\n",
       "  <thead>\n",
       "    <tr style=\"text-align: right;\">\n",
       "      <th></th>\n",
       "      <th>County name</th>\n",
       "      <th>skew</th>\n",
       "      <th>Service_Provider_Agency</th>\n",
       "    </tr>\n",
       "  </thead>\n",
       "  <tbody>\n",
       "    <tr>\n",
       "      <th>1</th>\n",
       "      <td>delaware</td>\n",
       "      <td>2.786788</td>\n",
       "      <td>5</td>\n",
       "    </tr>\n",
       "    <tr>\n",
       "      <th>7</th>\n",
       "      <td>richmond</td>\n",
       "      <td>2.828427</td>\n",
       "      <td>17</td>\n",
       "    </tr>\n",
       "    <tr>\n",
       "      <th>10</th>\n",
       "      <td>sullivan</td>\n",
       "      <td>2.825843</td>\n",
       "      <td>5</td>\n",
       "    </tr>\n",
       "    <tr>\n",
       "      <th>11</th>\n",
       "      <td>ulster</td>\n",
       "      <td>2.808819</td>\n",
       "      <td>7</td>\n",
       "    </tr>\n",
       "  </tbody>\n",
       "</table>\n",
       "</div>"
      ],
      "text/plain": [
       "   County name      skew  Service_Provider_Agency\n",
       "1     delaware  2.786788                        5\n",
       "7     richmond  2.828427                       17\n",
       "10    sullivan  2.825843                        5\n",
       "11      ulster  2.808819                        7"
      ]
     },
     "execution_count": 153,
     "metadata": {},
     "output_type": "execute_result"
    }
   ],
   "source": [
    "merged_skew_devagen.query('skew>' + str(merged_skew_devagen.mean()['skew']) + ' and ' + 'Service_Provider_Agency <' + str(merged_skew_devagen.mean()['Service_Provider_Agency']) )"
   ]
  },
  {
   "cell_type": "markdown",
   "metadata": {},
   "source": [
    "## Now we are going to normalize counties with respect to population"
   ]
  },
  {
   "cell_type": "code",
   "execution_count": 154,
   "metadata": {
    "collapsed": true
   },
   "outputs": [],
   "source": [
    "dgc_for_skew.index=dgc_for_skew.index.str.lower()"
   ]
  },
  {
   "cell_type": "code",
   "execution_count": 155,
   "metadata": {
    "collapsed": true
   },
   "outputs": [],
   "source": [
    "merged_skew_devagen_p_c=merged_skew_devagen.join(dgc_for_skew, on='County name',  how=\"inner\").fillna(\"\")"
   ]
  },
  {
   "cell_type": "code",
   "execution_count": 156,
   "metadata": {},
   "outputs": [
    {
     "data": {
      "text/html": [
       "<div>\n",
       "<style>\n",
       "    .dataframe thead tr:only-child th {\n",
       "        text-align: right;\n",
       "    }\n",
       "\n",
       "    .dataframe thead th {\n",
       "        text-align: left;\n",
       "    }\n",
       "\n",
       "    .dataframe tbody tr th {\n",
       "        vertical-align: top;\n",
       "    }\n",
       "</style>\n",
       "<table border=\"1\" class=\"dataframe\">\n",
       "  <thead>\n",
       "    <tr style=\"text-align: right;\">\n",
       "      <th></th>\n",
       "      <th>County name</th>\n",
       "      <th>skew</th>\n",
       "      <th>Service_Provider_Agency</th>\n",
       "      <th>count_participants</th>\n",
       "    </tr>\n",
       "  </thead>\n",
       "  <tbody>\n",
       "    <tr>\n",
       "      <th>0</th>\n",
       "      <td>bronx</td>\n",
       "      <td>1.423367</td>\n",
       "      <td>16</td>\n",
       "      <td>680</td>\n",
       "    </tr>\n",
       "    <tr>\n",
       "      <th>1</th>\n",
       "      <td>delaware</td>\n",
       "      <td>2.786788</td>\n",
       "      <td>5</td>\n",
       "      <td>99</td>\n",
       "    </tr>\n",
       "    <tr>\n",
       "      <th>3</th>\n",
       "      <td>kings</td>\n",
       "      <td>2.736576</td>\n",
       "      <td>61</td>\n",
       "      <td>1236</td>\n",
       "    </tr>\n",
       "    <tr>\n",
       "      <th>4</th>\n",
       "      <td>nassau</td>\n",
       "      <td>2.332563</td>\n",
       "      <td>56</td>\n",
       "      <td>28</td>\n",
       "    </tr>\n",
       "    <tr>\n",
       "      <th>5</th>\n",
       "      <td>new york</td>\n",
       "      <td>0.824555</td>\n",
       "      <td>65</td>\n",
       "      <td>294</td>\n",
       "    </tr>\n",
       "    <tr>\n",
       "      <th>6</th>\n",
       "      <td>queens</td>\n",
       "      <td>2.462068</td>\n",
       "      <td>33</td>\n",
       "      <td>83</td>\n",
       "    </tr>\n",
       "    <tr>\n",
       "      <th>7</th>\n",
       "      <td>richmond</td>\n",
       "      <td>2.828427</td>\n",
       "      <td>17</td>\n",
       "      <td>1</td>\n",
       "    </tr>\n",
       "    <tr>\n",
       "      <th>9</th>\n",
       "      <td>suffolk</td>\n",
       "      <td>2.828427</td>\n",
       "      <td>34</td>\n",
       "      <td>5</td>\n",
       "    </tr>\n",
       "    <tr>\n",
       "      <th>10</th>\n",
       "      <td>sullivan</td>\n",
       "      <td>2.825843</td>\n",
       "      <td>5</td>\n",
       "      <td>1722</td>\n",
       "    </tr>\n",
       "    <tr>\n",
       "      <th>11</th>\n",
       "      <td>ulster</td>\n",
       "      <td>2.808819</td>\n",
       "      <td>7</td>\n",
       "      <td>368</td>\n",
       "    </tr>\n",
       "  </tbody>\n",
       "</table>\n",
       "</div>"
      ],
      "text/plain": [
       "   County name      skew  Service_Provider_Agency  count_participants\n",
       "0        bronx  1.423367                       16                 680\n",
       "1     delaware  2.786788                        5                  99\n",
       "3        kings  2.736576                       61                1236\n",
       "4       nassau  2.332563                       56                  28\n",
       "5     new york  0.824555                       65                 294\n",
       "6       queens  2.462068                       33                  83\n",
       "7     richmond  2.828427                       17                   1\n",
       "9      suffolk  2.828427                       34                   5\n",
       "10    sullivan  2.825843                        5                1722\n",
       "11      ulster  2.808819                        7                 368"
      ]
     },
     "execution_count": 156,
     "metadata": {},
     "output_type": "execute_result"
    }
   ],
   "source": [
    "merged_skew_devagen_p_c.head(n=100)"
   ]
  },
  {
   "cell_type": "code",
   "execution_count": 157,
   "metadata": {
    "collapsed": true
   },
   "outputs": [],
   "source": [
    "merged_skew_devagen_p_c['agencies_p_c']=merged_skew_devagen_p_c['Service_Provider_Agency']/merged_skew_devagen_p_c['count_participants']"
   ]
  },
  {
   "cell_type": "code",
   "execution_count": 158,
   "metadata": {
    "collapsed": true
   },
   "outputs": [],
   "source": [
    "merged_skew_devagen_p_c.drop(merged_skew_devagen_p_c.columns[[2,3]], axis=1, inplace=True)"
   ]
  },
  {
   "cell_type": "code",
   "execution_count": 159,
   "metadata": {},
   "outputs": [
    {
     "data": {
      "text/html": [
       "<div>\n",
       "<style>\n",
       "    .dataframe thead tr:only-child th {\n",
       "        text-align: right;\n",
       "    }\n",
       "\n",
       "    .dataframe thead th {\n",
       "        text-align: left;\n",
       "    }\n",
       "\n",
       "    .dataframe tbody tr th {\n",
       "        vertical-align: top;\n",
       "    }\n",
       "</style>\n",
       "<table border=\"1\" class=\"dataframe\">\n",
       "  <thead>\n",
       "    <tr style=\"text-align: right;\">\n",
       "      <th></th>\n",
       "      <th>County name</th>\n",
       "      <th>skew</th>\n",
       "      <th>agencies_p_c</th>\n",
       "    </tr>\n",
       "  </thead>\n",
       "  <tbody>\n",
       "    <tr>\n",
       "      <th>0</th>\n",
       "      <td>bronx</td>\n",
       "      <td>1.423367</td>\n",
       "      <td>0.023529</td>\n",
       "    </tr>\n",
       "    <tr>\n",
       "      <th>1</th>\n",
       "      <td>delaware</td>\n",
       "      <td>2.786788</td>\n",
       "      <td>0.050505</td>\n",
       "    </tr>\n",
       "    <tr>\n",
       "      <th>3</th>\n",
       "      <td>kings</td>\n",
       "      <td>2.736576</td>\n",
       "      <td>0.049353</td>\n",
       "    </tr>\n",
       "    <tr>\n",
       "      <th>4</th>\n",
       "      <td>nassau</td>\n",
       "      <td>2.332563</td>\n",
       "      <td>2.000000</td>\n",
       "    </tr>\n",
       "    <tr>\n",
       "      <th>5</th>\n",
       "      <td>new york</td>\n",
       "      <td>0.824555</td>\n",
       "      <td>0.221088</td>\n",
       "    </tr>\n",
       "    <tr>\n",
       "      <th>6</th>\n",
       "      <td>queens</td>\n",
       "      <td>2.462068</td>\n",
       "      <td>0.397590</td>\n",
       "    </tr>\n",
       "    <tr>\n",
       "      <th>7</th>\n",
       "      <td>richmond</td>\n",
       "      <td>2.828427</td>\n",
       "      <td>17.000000</td>\n",
       "    </tr>\n",
       "    <tr>\n",
       "      <th>9</th>\n",
       "      <td>suffolk</td>\n",
       "      <td>2.828427</td>\n",
       "      <td>6.800000</td>\n",
       "    </tr>\n",
       "    <tr>\n",
       "      <th>10</th>\n",
       "      <td>sullivan</td>\n",
       "      <td>2.825843</td>\n",
       "      <td>0.002904</td>\n",
       "    </tr>\n",
       "    <tr>\n",
       "      <th>11</th>\n",
       "      <td>ulster</td>\n",
       "      <td>2.808819</td>\n",
       "      <td>0.019022</td>\n",
       "    </tr>\n",
       "  </tbody>\n",
       "</table>\n",
       "</div>"
      ],
      "text/plain": [
       "   County name      skew  agencies_p_c\n",
       "0        bronx  1.423367      0.023529\n",
       "1     delaware  2.786788      0.050505\n",
       "3        kings  2.736576      0.049353\n",
       "4       nassau  2.332563      2.000000\n",
       "5     new york  0.824555      0.221088\n",
       "6       queens  2.462068      0.397590\n",
       "7     richmond  2.828427     17.000000\n",
       "9      suffolk  2.828427      6.800000\n",
       "10    sullivan  2.825843      0.002904\n",
       "11      ulster  2.808819      0.019022"
      ]
     },
     "execution_count": 159,
     "metadata": {},
     "output_type": "execute_result"
    }
   ],
   "source": [
    "merged_skew_devagen_p_c.head(n=123)"
   ]
  },
  {
   "cell_type": "markdown",
   "metadata": {},
   "source": [
    "# <span style=\"color: red;\">Counties with above average skewness that are disadvantaged when it comes to access to DDS providers</span>"
   ]
  },
  {
   "cell_type": "code",
   "execution_count": 160,
   "metadata": {},
   "outputs": [
    {
     "data": {
      "text/html": [
       "<div>\n",
       "<style>\n",
       "    .dataframe thead tr:only-child th {\n",
       "        text-align: right;\n",
       "    }\n",
       "\n",
       "    .dataframe thead th {\n",
       "        text-align: left;\n",
       "    }\n",
       "\n",
       "    .dataframe tbody tr th {\n",
       "        vertical-align: top;\n",
       "    }\n",
       "</style>\n",
       "<table border=\"1\" class=\"dataframe\">\n",
       "  <thead>\n",
       "    <tr style=\"text-align: right;\">\n",
       "      <th></th>\n",
       "      <th>County name</th>\n",
       "      <th>skew</th>\n",
       "      <th>agencies_p_c</th>\n",
       "    </tr>\n",
       "  </thead>\n",
       "  <tbody>\n",
       "    <tr>\n",
       "      <th>1</th>\n",
       "      <td>delaware</td>\n",
       "      <td>2.786788</td>\n",
       "      <td>0.050505</td>\n",
       "    </tr>\n",
       "    <tr>\n",
       "      <th>3</th>\n",
       "      <td>kings</td>\n",
       "      <td>2.736576</td>\n",
       "      <td>0.049353</td>\n",
       "    </tr>\n",
       "    <tr>\n",
       "      <th>6</th>\n",
       "      <td>queens</td>\n",
       "      <td>2.462068</td>\n",
       "      <td>0.397590</td>\n",
       "    </tr>\n",
       "    <tr>\n",
       "      <th>10</th>\n",
       "      <td>sullivan</td>\n",
       "      <td>2.825843</td>\n",
       "      <td>0.002904</td>\n",
       "    </tr>\n",
       "    <tr>\n",
       "      <th>11</th>\n",
       "      <td>ulster</td>\n",
       "      <td>2.808819</td>\n",
       "      <td>0.019022</td>\n",
       "    </tr>\n",
       "  </tbody>\n",
       "</table>\n",
       "</div>"
      ],
      "text/plain": [
       "   County name      skew  agencies_p_c\n",
       "1     delaware  2.786788      0.050505\n",
       "3        kings  2.736576      0.049353\n",
       "6       queens  2.462068      0.397590\n",
       "10    sullivan  2.825843      0.002904\n",
       "11      ulster  2.808819      0.019022"
      ]
     },
     "execution_count": 160,
     "metadata": {},
     "output_type": "execute_result"
    }
   ],
   "source": [
    "merged_skew_devagen_p_c.query('skew>' + str(merged_skew_devagen_p_c.mean()['skew']) + ' and ' + 'agencies_p_c <' + str(merged_skew_devagen_p_c.mean()['agencies_p_c']) )"
   ]
  },
  {
   "cell_type": "code",
   "execution_count": null,
   "metadata": {
    "collapsed": true
   },
   "outputs": [],
   "source": []
  }
 ],
 "metadata": {
  "kernelspec": {
   "display_name": "Python 3",
   "language": "python",
   "name": "python3"
  },
  "language_info": {
   "codemirror_mode": {
    "name": "ipython",
    "version": 3
   },
   "file_extension": ".py",
   "mimetype": "text/x-python",
   "name": "python",
   "nbconvert_exporter": "python",
   "pygments_lexer": "ipython3",
   "version": "3.6.1"
  }
 },
 "nbformat": 4,
 "nbformat_minor": 2
}
